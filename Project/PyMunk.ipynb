{
 "cells": [
  {
   "cell_type": "markdown",
   "id": "0bc7a99d",
   "metadata": {},
   "source": [
    "# PyMunk Crash Simulation: Crumple Zones vs Rigid Impact\n",
    "**Author:** Darren Chung\n",
    "\n",
    "**Date:** May 18, 2025"
   ]
  },
  {
   "cell_type": "markdown",
   "id": "3d396c64",
   "metadata": {},
   "source": [
    "\n",
    "## 1. Introduction\n",
    "\n",
    "This notebook demonstrates a physics simulation using `pymunk` to evaluate how crumple zones reduce the force transmitted to a car’s cabin during a collision. Two models are compared:\n",
    "1. A single rigid body hitting a wall\n",
    "2. A vehicle made of spring-connected segments (a crumple zone) followed by a cabin\n",
    "\n",
    "We simulate collisions at various speeds and analyze the peak impulse experienced by the cabin.\n"
   ]
  },
  {
   "cell_type": "code",
   "execution_count": 1,
   "id": "dabc5cfc",
   "metadata": {},
   "outputs": [],
   "source": [
    "import pymunk\n",
    "import pandas as pd\n",
    "import matplotlib.pyplot as plt"
   ]
  },
  {
   "cell_type": "code",
   "execution_count": 2,
   "id": "3ea2a26a",
   "metadata": {},
   "outputs": [],
   "source": [
    "def simulate_impact(v_init, use_crumple, k=1000, damping=50,\n",
    "                    n_seg=5, seg=(20, 10), cabin_mass=5.0,\n",
    "                    dt=1/2000, T=1.5):\n",
    "    space = pymunk.Space()\n",
    "    space.gravity = (0, 0)\n",
    "    wall = pymunk.Segment(pymunk.Body(body_type=pymunk.Body.STATIC), (0, -100), (0, 100), 1)\n",
    "    wall.elasticity = 0.1\n",
    "    wall.friction = 0.5\n",
    "    space.add(wall.body, wall)\n",
    "    peak_wall_imp = 0.0\n",
    "    def post_solve(arb, space, data):\n",
    "        nonlocal peak_wall_imp\n",
    "        if wall in arb.shapes:\n",
    "            peak_wall_imp = max(peak_wall_imp, arb.total_impulse.length)\n",
    "    space.add_default_collision_handler().post_solve = post_solve\n",
    "    spring_to_cabin = None\n",
    "    if not use_crumple:\n",
    "        body = pymunk.Body(1, pymunk.moment_for_box(1, seg))\n",
    "        body.position = (-80, 0)\n",
    "        body.velocity = (v_init, 0)\n",
    "        shape = pymunk.Poly.create_box(body, seg)\n",
    "        shape.elasticity = 0.1\n",
    "        shape.friction = 0.5\n",
    "        space.add(body, shape)\n",
    "        cabin = body\n",
    "    else:\n",
    "        bodies = []\n",
    "        w, h = seg\n",
    "        for i in range(n_seg):\n",
    "            m = cabin_mass if i == n_seg - 1 else 1\n",
    "            b = pymunk.Body(m, pymunk.moment_for_box(m, seg))\n",
    "            b.position = (-80 - i * w, 0)\n",
    "            b.velocity = (v_init, 0)\n",
    "            shape = pymunk.Poly.create_box(b, seg)\n",
    "            shape.elasticity = 0.1\n",
    "            shape.friction = 0.5\n",
    "            space.add(b, shape)\n",
    "            bodies.append(b)\n",
    "        for i in range(n_seg - 1):\n",
    "            s = pymunk.DampedSpring(\n",
    "                bodies[i], bodies[i + 1],\n",
    "                (w / 2, 0), (-w / 2, 0),\n",
    "                rest_length=w, stiffness=k, damping=damping\n",
    "            )\n",
    "            space.add(s)\n",
    "            if i == n_seg - 2:\n",
    "                spring_to_cabin = s\n",
    "        cabin = bodies[-1]\n",
    "    peak_cabin_impulse = 0.0\n",
    "    for _ in range(int(T / dt)):\n",
    "        space.step(dt)\n",
    "        if use_crumple and spring_to_cabin:\n",
    "            peak_cabin_impulse = max(peak_cabin_impulse, abs(spring_to_cabin.impulse / dt))\n",
    "        elif not use_crumple:\n",
    "            peak_cabin_impulse = peak_wall_imp / dt\n",
    "    return peak_wall_imp, peak_cabin_impulse"
   ]
  },
  {
   "cell_type": "markdown",
   "id": "878bd21a",
   "metadata": {},
   "source": [
    "## 2. Run Simulations and Collect Data"
   ]
  },
  {
   "cell_type": "code",
   "execution_count": 3,
   "id": "53d17055",
   "metadata": {},
   "outputs": [
    {
     "data": {
      "text/html": [
       "<div>\n",
       "<style scoped>\n",
       "    .dataframe tbody tr th:only-of-type {\n",
       "        vertical-align: middle;\n",
       "    }\n",
       "\n",
       "    .dataframe tbody tr th {\n",
       "        vertical-align: top;\n",
       "    }\n",
       "\n",
       "    .dataframe thead th {\n",
       "        text-align: right;\n",
       "    }\n",
       "</style>\n",
       "<table border=\"1\" class=\"dataframe\">\n",
       "  <thead>\n",
       "    <tr style=\"text-align: right;\">\n",
       "      <th></th>\n",
       "      <th>Design</th>\n",
       "      <th>Speed</th>\n",
       "      <th>Barrier</th>\n",
       "      <th>Cabin</th>\n",
       "    </tr>\n",
       "  </thead>\n",
       "  <tbody>\n",
       "    <tr>\n",
       "      <th>0</th>\n",
       "      <td>Rigid</td>\n",
       "      <td>50</td>\n",
       "      <td>0.050562</td>\n",
       "      <td>101.123886</td>\n",
       "    </tr>\n",
       "    <tr>\n",
       "      <th>1</th>\n",
       "      <td>Crumple</td>\n",
       "      <td>50</td>\n",
       "      <td>0.208234</td>\n",
       "      <td>20.126193</td>\n",
       "    </tr>\n",
       "    <tr>\n",
       "      <th>2</th>\n",
       "      <td>Rigid</td>\n",
       "      <td>100</td>\n",
       "      <td>0.101124</td>\n",
       "      <td>202.247773</td>\n",
       "    </tr>\n",
       "    <tr>\n",
       "      <th>3</th>\n",
       "      <td>Crumple</td>\n",
       "      <td>100</td>\n",
       "      <td>0.416397</td>\n",
       "      <td>20.255687</td>\n",
       "    </tr>\n",
       "    <tr>\n",
       "      <th>4</th>\n",
       "      <td>Rigid</td>\n",
       "      <td>150</td>\n",
       "      <td>0.151686</td>\n",
       "      <td>303.371659</td>\n",
       "    </tr>\n",
       "    <tr>\n",
       "      <th>5</th>\n",
       "      <td>Crumple</td>\n",
       "      <td>150</td>\n",
       "      <td>0.624561</td>\n",
       "      <td>20.385718</td>\n",
       "    </tr>\n",
       "    <tr>\n",
       "      <th>6</th>\n",
       "      <td>Rigid</td>\n",
       "      <td>200</td>\n",
       "      <td>0.202248</td>\n",
       "      <td>404.495545</td>\n",
       "    </tr>\n",
       "    <tr>\n",
       "      <th>7</th>\n",
       "      <td>Crumple</td>\n",
       "      <td>200</td>\n",
       "      <td>0.832725</td>\n",
       "      <td>20.516611</td>\n",
       "    </tr>\n",
       "    <tr>\n",
       "      <th>8</th>\n",
       "      <td>Rigid</td>\n",
       "      <td>250</td>\n",
       "      <td>0.252810</td>\n",
       "      <td>505.619431</td>\n",
       "    </tr>\n",
       "    <tr>\n",
       "      <th>9</th>\n",
       "      <td>Crumple</td>\n",
       "      <td>250</td>\n",
       "      <td>1.035724</td>\n",
       "      <td>20.370247</td>\n",
       "    </tr>\n",
       "  </tbody>\n",
       "</table>\n",
       "</div>"
      ],
      "text/plain": [
       "    Design  Speed   Barrier       Cabin\n",
       "0    Rigid     50  0.050562  101.123886\n",
       "1  Crumple     50  0.208234   20.126193\n",
       "2    Rigid    100  0.101124  202.247773\n",
       "3  Crumple    100  0.416397   20.255687\n",
       "4    Rigid    150  0.151686  303.371659\n",
       "5  Crumple    150  0.624561   20.385718\n",
       "6    Rigid    200  0.202248  404.495545\n",
       "7  Crumple    200  0.832725   20.516611\n",
       "8    Rigid    250  0.252810  505.619431\n",
       "9  Crumple    250  1.035724   20.370247"
      ]
     },
     "execution_count": 3,
     "metadata": {},
     "output_type": "execute_result"
    }
   ],
   "source": [
    "speeds = [50, 100, 150, 200, 250]\n",
    "results = []\n",
    "for v in speeds:\n",
    "    bi_r, ci_r = simulate_impact(v, use_crumple=False)\n",
    "    bi_c, ci_c = simulate_impact(v, use_crumple=True)\n",
    "    results.extend([\n",
    "        dict(Design=\"Rigid\", Speed=v, Barrier=bi_r / 1000, Cabin=ci_r / 1000),\n",
    "        dict(Design=\"Crumple\", Speed=v, Barrier=bi_c / 1000, Cabin=ci_c / 1000),\n",
    "    ])\n",
    "df = pd.DataFrame(results)\n",
    "df"
   ]
  },
  {
   "cell_type": "markdown",
   "id": "9522c7e2",
   "metadata": {},
   "source": [
    "## 3. Analyze Reduction in Cabin Impulse"
   ]
  },
  {
   "cell_type": "code",
   "execution_count": 4,
   "id": "ed969570",
   "metadata": {},
   "outputs": [
    {
     "data": {
      "text/html": [
       "<div>\n",
       "<style scoped>\n",
       "    .dataframe tbody tr th:only-of-type {\n",
       "        vertical-align: middle;\n",
       "    }\n",
       "\n",
       "    .dataframe tbody tr th {\n",
       "        vertical-align: top;\n",
       "    }\n",
       "\n",
       "    .dataframe thead th {\n",
       "        text-align: right;\n",
       "    }\n",
       "</style>\n",
       "<table border=\"1\" class=\"dataframe\">\n",
       "  <thead>\n",
       "    <tr style=\"text-align: right;\">\n",
       "      <th></th>\n",
       "      <th>Speed</th>\n",
       "      <th>Reduction</th>\n",
       "    </tr>\n",
       "  </thead>\n",
       "  <tbody>\n",
       "    <tr>\n",
       "      <th>0</th>\n",
       "      <td>50</td>\n",
       "      <td>80.097488</td>\n",
       "    </tr>\n",
       "    <tr>\n",
       "      <th>1</th>\n",
       "      <td>100</td>\n",
       "      <td>89.984717</td>\n",
       "    </tr>\n",
       "    <tr>\n",
       "      <th>2</th>\n",
       "      <td>150</td>\n",
       "      <td>93.280283</td>\n",
       "    </tr>\n",
       "    <tr>\n",
       "      <th>3</th>\n",
       "      <td>200</td>\n",
       "      <td>94.927852</td>\n",
       "    </tr>\n",
       "    <tr>\n",
       "      <th>4</th>\n",
       "      <td>250</td>\n",
       "      <td>95.971229</td>\n",
       "    </tr>\n",
       "  </tbody>\n",
       "</table>\n",
       "</div>"
      ],
      "text/plain": [
       "   Speed  Reduction\n",
       "0     50  80.097488\n",
       "1    100  89.984717\n",
       "2    150  93.280283\n",
       "3    200  94.927852\n",
       "4    250  95.971229"
      ]
     },
     "execution_count": 4,
     "metadata": {},
     "output_type": "execute_result"
    }
   ],
   "source": [
    "reductions = []\n",
    "for v in speeds:\n",
    "    rigid = df[(df.Design == \"Rigid\") & (df.Speed == v)].iloc[0]\n",
    "    crumple = df[(df.Design == \"Crumple\") & (df.Speed == v)].iloc[0]\n",
    "    red = 100 * (rigid.Cabin - crumple.Cabin) / rigid.Cabin\n",
    "    reductions.append(dict(Speed=v, Reduction=red))\n",
    "df_reduction = pd.DataFrame(reductions)\n",
    "df_reduction"
   ]
  },
  {
   "cell_type": "markdown",
   "id": "8ae50214",
   "metadata": {},
   "source": [
    "## 4. Plot Peak Impulse vs Speed"
   ]
  },
  {
   "cell_type": "code",
   "execution_count": 5,
   "id": "c11049d6",
   "metadata": {},
   "outputs": [
    {
     "data": {
      "image/png": "[encoded data removed]",
      "text/plain": [
       "<Figure size 600x400 with 1 Axes>"
      ]
     },
     "metadata": {},
     "output_type": "display_data"
    }
   ],
   "source": [
    "plt.figure(figsize=(6, 4))\n",
    "for design in df['Design'].unique():\n",
    "    g = df[df.Design == design]\n",
    "    plt.plot(g.Speed, g.Barrier, 'o-', label=f'{design} – Barrier')\n",
    "    plt.plot(g.Speed, g.Cabin, 's--', label=f'{design} – Cabin')\n",
    "plt.title(\"Peak Impulse vs Speed\")\n",
    "plt.xlabel(\"Speed (px/s)\")\n",
    "plt.ylabel(\"Peak Impulse (kN·s)\")\n",
    "plt.grid(True)\n",
    "plt.legend()\n",
    "plt.savefig(\"Figure1.png\",dpi=300)"
   ]
  },
  {
   "cell_type": "markdown",
   "id": "9ff065ec",
   "metadata": {},
   "source": [
    "## 5. Plot Reduction Bar Chart"
   ]
  },
  {
   "cell_type": "code",
   "execution_count": 6,
   "id": "6e60ed31",
   "metadata": {},
   "outputs": [
    {
     "data": {
      "image/png": "[encoded data removed]",
      "text/plain": [
       "<Figure size 700x500 with 1 Axes>"
      ]
     },
     "metadata": {},
     "output_type": "display_data"
    }
   ],
   "source": [
    "plt.figure(figsize=(7, 5))\n",
    "bars = plt.bar(df_reduction.Speed, df_reduction.Reduction, width=30, color='skyblue', edgecolor='black')\n",
    "plt.title(\"Cabin Impulse Reduction by Crumple Zone\")\n",
    "plt.xlabel(\"Speed (px/s)\")\n",
    "plt.ylabel(\"Reduction (%)\")\n",
    "plt.ylim(0, 100)\n",
    "plt.grid(axis=\"y\")\n",
    "for bar in bars:\n",
    "    height = bar.get_height()\n",
    "    plt.annotate(f'{height:.1f}%',\n",
    "                 xy=(bar.get_x() + bar.get_width() / 2, height),\n",
    "                 xytext=(0, 5),\n",
    "                 textcoords=\"offset points\",\n",
    "                 ha='center', va='bottom', fontsize=9, fontweight='bold') \n",
    "plt.savefig(\"Figure2.png\",dpi=300)"
   ]
  },
  {
   "cell_type": "markdown",
   "id": "9e8524f2",
   "metadata": {},
   "source": [
    "\n",
    "## 6. Summary\n",
    "\n",
    "This simulation shows that crumple zones:\n",
    "- Reduce cabin impulse significantly across all speeds\n",
    "- Do not substantially increase wall impulse\n",
    "- Allow for safer deceleration during impacts\n",
    "\n",
    "The `pymunk` library made it possible to simulate detailed, dynamic behavior with realistic physics constraints. This package allowed me to express my interest in automotive safety using python.\n"
   ]
  },
  {
   "cell_type": "code",
   "execution_count": null,
   "id": "9e344904-6f93-4298-b567-bf5770b6599e",
   "metadata": {},
   "outputs": [],
   "source": []
  }
 ],
 "metadata": {
  "kernelspec": {
   "display_name": "Python 3 (ipykernel)",
   "language": "python",
   "name": "python3"
  },
  "language_info": {
   "codemirror_mode": {
    "name": "ipython",
    "version": 3
   },
   "file_extension": ".py",
   "mimetype": "text/x-python",
   "name": "python",
   "nbconvert_exporter": "python",
   "pygments_lexer": "ipython3",
   "version": "3.12.5"
  }
 },
 "nbformat": 4,
 "nbformat_minor": 5
}
